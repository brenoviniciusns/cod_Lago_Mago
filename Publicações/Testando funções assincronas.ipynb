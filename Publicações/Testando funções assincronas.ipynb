{
 "cells": [
  {
   "cell_type": "code",
   "execution_count": 0,
   "metadata": {
    "application/vnd.databricks.v1+cell": {
     "cellMetadata": {
      "byteLimit": 2048000,
      "rowLimit": 10000
     },
     "inputWidgets": {},
     "nuid": "5def3ecb-e4e4-47f1-b87c-3545924ca1ec",
     "showTitle": false,
     "tableResultSettingsMap": {},
     "title": ""
    }
   },
   "outputs": [],
   "source": [
    "import aiohttp\n",
    "import asyncio\n",
    "\n",
    "async def puxando_dados(session, url):\n",
    "        async with session.get(url) as resposta:\n",
    "            dados = await resposta.json()\n",
    "            return dados\n",
    "\n",
    "async def main():\n",
    "    async with aiohttp.ClientSession() as session:\n",
    "        results = []\n",
    "        for num in range(1, 5000):\n",
    "            url = f'https://jsonplaceholder.typicode.com/photos/{num}'\n",
    "            results.append(puxando_dados(session, url))\n",
    "            asyncio.gather(*results)\n",
    "        return results\n",
    "\n",
    "import nest_asyncio\n",
    "nest_asyncio.apply()\n",
    "resultados_debugger = asyncio.run(main())"
   ]
  },
  {
   "cell_type": "code",
   "execution_count": 0,
   "metadata": {
    "application/vnd.databricks.v1+cell": {
     "cellMetadata": {
      "byteLimit": 2048000,
      "rowLimit": 10000
     },
     "inputWidgets": {},
     "nuid": "6b082e78-6df7-4882-8170-9dce0d1f6a69",
     "showTitle": false,
     "tableResultSettingsMap": {},
     "title": ""
    }
   },
   "outputs": [],
   "source": [
    "pip install tqdm"
   ]
  },
  {
   "cell_type": "code",
   "execution_count": 0,
   "metadata": {
    "application/vnd.databricks.v1+cell": {
     "cellMetadata": {
      "byteLimit": 2048000,
      "rowLimit": 10000
     },
     "inputWidgets": {},
     "nuid": "7e8c474a-8cec-4750-9d29-da3cab604135",
     "showTitle": false,
     "tableResultSettingsMap": {},
     "title": ""
    }
   },
   "outputs": [],
   "source": [
    "import aiohttp\n",
    "import asyncio\n",
    "from tqdm import tqdm\n",
    "\n",
    "async def puxando_dados(session, url):\n",
    "    async with session.get(url) as resposta:\n",
    "        dados = await resposta.json()\n",
    "        return dados\n",
    "\n",
    "async def main():\n",
    "    async with aiohttp.ClientSession() as session:\n",
    "        tarefas = []\n",
    "        for num in tqdm(range(1, 5001)):\n",
    "            url = f'https://jsonplaceholder.typicode.com/photos/{num}'\n",
    "            tarefas.append(puxando_dados(session, url))\n",
    "        resultados = await asyncio.gather(*tarefas)\n",
    "        return resultados\n",
    "\n",
    "import nest_asyncio\n",
    "nest_asyncio.apply()\n",
    "resultados_debugger = asyncio.run(main())\n",
    "\n",
    "print(f\"Número de resultados: {len(resultados_debugger)}\")\n",
    "print(f\"Exemplo do primeiro resultado: {resultados_debugger[0]}\")"
   ]
  },
  {
   "cell_type": "code",
   "execution_count": 0,
   "metadata": {
    "application/vnd.databricks.v1+cell": {
     "cellMetadata": {
      "byteLimit": 2048000,
      "rowLimit": 10000
     },
     "inputWidgets": {},
     "nuid": "2c0da687-cf1f-4cb9-b87a-71ce966d6c43",
     "showTitle": false,
     "tableResultSettingsMap": {},
     "title": ""
    }
   },
   "outputs": [],
   "source": [
    "import requests\n",
    "import time\n",
    "from tqdm import tqdm\n",
    "\n",
    "def buscar_dado(url):\n",
    "    resposta = requests.get(url)\n",
    "    return resposta.json()\n",
    "\n",
    "\n",
    "inicio = time.time()\n",
    "resultado_syn = []\n",
    "for num in tqdm(range(1, 5001)):\n",
    "    url = f'https://jsonplaceholder.typicode.com/photos/{num}'\n",
    "    resultado = buscar_dado(url)\n",
    "    resultado_syn.append(resultado)\n",
    "\n",
    "fim = time.time()\n",
    "\n",
    "print(f\"Tempo total: {fim - inicio:.2f} segundos\")\n",
    "\n"
   ]
  },
  {
   "cell_type": "code",
   "execution_count": 0,
   "metadata": {
    "application/vnd.databricks.v1+cell": {
     "cellMetadata": {
      "byteLimit": 2048000,
      "rowLimit": 10000
     },
     "inputWidgets": {},
     "nuid": "57e8fe9b-97bf-43c0-8d8c-e8d428fcd0c7",
     "showTitle": false,
     "tableResultSettingsMap": {},
     "title": ""
    }
   },
   "outputs": [],
   "source": [
    "len(resultado_syn)"
   ]
  },
  {
   "cell_type": "code",
   "execution_count": 0,
   "metadata": {
    "application/vnd.databricks.v1+cell": {
     "cellMetadata": {
      "byteLimit": 2048000,
      "rowLimit": 10000
     },
     "inputWidgets": {},
     "nuid": "843dc9dd-049c-435a-a892-179219f52781",
     "showTitle": false,
     "tableResultSettingsMap": {},
     "title": ""
    }
   },
   "outputs": [],
   "source": [
    "import aiohttp\n",
    "import asyncio\n",
    "\n",
    "async def buscar_dado(session, num):\n",
    "    url = f'https://jsonplaceholder.typicode.com/photos/{num}'\n",
    "    async with session.get(url) as resposta:\n",
    "        dados = await resposta.json()\n",
    "        #print(f\"Resultado {num}:\", dados)\n",
    "        return dados\n",
    "\n",
    "async def main():\n",
    "    async with aiohttp.ClientSession() as session:\n",
    "        tarefas = []\n",
    "        for num in range(1, 5000):  # Vamos buscar os primeiros 5 todos\n",
    "            tarefa = buscar_dado(session, num)\n",
    "            tarefas.append(tarefa)\n",
    "        \n",
    "        resultados = await asyncio.gather(*tarefas)\n",
    "    print(f\"\\nTotal de resultados: {len(resultados)}\")\n",
    "    return resultados\n",
    "    \n",
    "# Para executar no Databricks\n",
    "async def executar():\n",
    "    return await main()\n",
    "\n",
    "# Executar o código\n",
    "import nest_asyncio\n",
    "nest_asyncio.apply()\n",
    "resultados_debugger = asyncio.run(executar())"
   ]
  },
  {
   "cell_type": "code",
   "execution_count": 0,
   "metadata": {
    "application/vnd.databricks.v1+cell": {
     "cellMetadata": {
      "byteLimit": 2048000,
      "rowLimit": 10000
     },
     "inputWidgets": {},
     "nuid": "f48b209c-48d3-4843-a53b-25fd52979ad6",
     "showTitle": false,
     "tableResultSettingsMap": {},
     "title": ""
    }
   },
   "outputs": [],
   "source": [
    "resultados_debugger"
   ]
  }
 ],
 "metadata": {
  "application/vnd.databricks.v1+notebook": {
   "computePreferences": null,
   "dashboards": [],
   "environmentMetadata": {
    "base_environment": "",
    "environment_version": "2"
   },
   "language": "python",
   "notebookMetadata": {
    "pythonIndentUnit": 4
   },
   "notebookName": "Testando funções assincronas",
   "widgets": {}
  },
  "language_info": {
   "name": "python"
  }
 },
 "nbformat": 4,
 "nbformat_minor": 0
}
