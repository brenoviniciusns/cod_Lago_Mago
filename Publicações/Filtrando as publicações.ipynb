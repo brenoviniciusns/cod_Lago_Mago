{
 "cells": [
  {
   "cell_type": "code",
   "execution_count": 0,
   "metadata": {
    "application/vnd.databricks.v1+cell": {
     "cellMetadata": {
      "byteLimit": 2048000,
      "implicitDf": true,
      "rowLimit": 10000
     },
     "inputWidgets": {},
     "nuid": "7c60a022-c303-4b90-984e-01ccc017abd1",
     "showTitle": false,
     "tableResultSettingsMap": {},
     "title": ""
    }
   },
   "outputs": [],
   "source": [
    "query=\"\"\"\n",
    "select palavras_busca\n",
    "from bronze.tabnews.palavras\"\"\"\n",
    "\n",
    "resultado=spark.sql(query)"
   ]
  },
  {
   "cell_type": "code",
   "execution_count": 0,
   "metadata": {
    "application/vnd.databricks.v1+cell": {
     "cellMetadata": {
      "byteLimit": 2048000,
      "rowLimit": 10000
     },
     "inputWidgets": {},
     "nuid": "d2e36d22-011d-481f-8b70-cb1a4c928f8c",
     "showTitle": false,
     "tableResultSettingsMap": {},
     "title": ""
    }
   },
   "outputs": [],
   "source": [
    "from pyspark.sql.functions import lit\n",
    "from pyspark.sql import Row\n",
    "from pyspark.sql.functions import collect_set, concat_ws, sort_array\n",
    "import pandas as pd\n",
    "\n",
    "\n",
    "palavras_busca = resultado.collect()\n",
    "resultados = []\n",
    "\n",
    "for palavra in palavras_busca:\n",
    "    palavra = palavra[0]\n",
    "    query = f\"\"\"\n",
    "    SELECT '{palavra}' as palavra_busca, id, slug, title, source_url, created_at, updated_at, owner_username\n",
    "    FROM bronze.tabnews.assunto\n",
    "    WHERE title LIKE '%{palavra}%'\n",
    "    \"\"\"\n",
    "    df = spark.sql(query)\n",
    "    resultados.append(df.collect())\n",
    "\n",
    "df_palavras = spark.createDataFrame([row for sublist in resultados for row in sublist])\n",
    "df_agrupado = df_palavras.groupBy(\"id\", \"slug\", \"title\", \"source_url\", \"created_at\", \"updated_at\", \"owner_username\") \\\n",
    "    .agg(sort_array(collect_set(\"palavra_busca\")).alias(\"palavras_busca_array\")) \\\n",
    "    .withColumn(\"palavra_busca\", concat_ws(\", \", \"palavras_busca_array\")) \\\n",
    "    .drop(\"palavras_busca_array\")\\\n",
    "    .withColumn(\"url\", lit(None).cast(\"string\")) \\\n",
    "    .withColumn(\"body\", lit(None).cast(\"string\"))"
   ]
  },
  {
   "cell_type": "code",
   "execution_count": 0,
   "metadata": {
    "application/vnd.databricks.v1+cell": {
     "cellMetadata": {
      "byteLimit": 2048000,
      "rowLimit": 10000
     },
     "inputWidgets": {},
     "nuid": "504ecf9c-d185-44db-9f35-84b5751fc204",
     "showTitle": false,
     "tableResultSettingsMap": {},
     "title": ""
    }
   },
   "outputs": [],
   "source": [
    "df_agrupado.write \\\n",
    "        .format('delta') \\\n",
    "        .mode('overwrite') \\\n",
    "        .option(\"overwriteSchema\", \"true\") \\\n",
    "        .saveAsTable('silver.tabnews.assunto')"
   ]
  }
 ],
 "metadata": {
  "application/vnd.databricks.v1+notebook": {
   "computePreferences": null,
   "dashboards": [],
   "environmentMetadata": {
    "base_environment": "",
    "environment_version": "2"
   },
   "language": "python",
   "notebookMetadata": {
    "mostRecentlyExecutedCommandWithImplicitDF": {
     "commandId": 8144626436808689,
     "dataframes": [
      "_sqldf"
     ]
    },
    "pythonIndentUnit": 4
   },
   "notebookName": "Filtrando as publicações",
   "widgets": {}
  },
  "language_info": {
   "name": "python"
  }
 },
 "nbformat": 4,
 "nbformat_minor": 0
}
