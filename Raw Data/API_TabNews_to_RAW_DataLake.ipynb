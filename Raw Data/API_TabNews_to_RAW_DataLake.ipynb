{
 "cells": [
  {
   "cell_type": "code",
   "execution_count": 0,
   "metadata": {
    "application/vnd.databricks.v1+cell": {
     "cellMetadata": {
      "byteLimit": 2048000,
      "rowLimit": 10000
     },
     "collapsed": true,
     "inputWidgets": {},
     "nuid": "25c219af-8404-4dd8-b7c0-55b08d3be18b",
     "showTitle": false,
     "tableResultSettingsMap": {},
     "title": ""
    }
   },
   "outputs": [],
   "source": [
    "#%%\n",
    "import requests\n",
    "from typing import Dict, Any, Tuple\n",
    "import logging\n",
    "import pandas as pd\n",
    "import csv\n",
    "import json\n",
    "import os\n",
    "from datetime import datetime\n",
    "from pyspark.sql.functions import col, to_timestamp, year, month, day, hour, minute\n",
    "from pyspark.sql.types import StructType, StructField, IntegerType, StringType"
   ]
  },
  {
   "cell_type": "code",
   "execution_count": 0,
   "metadata": {
    "application/vnd.databricks.v1+cell": {
     "cellMetadata": {
      "byteLimit": 2048000,
      "rowLimit": 10000
     },
     "inputWidgets": {},
     "nuid": "40294a55-457d-4498-a0fc-18a9854d6851",
     "showTitle": false,
     "tableResultSettingsMap": {},
     "title": ""
    }
   },
   "outputs": [],
   "source": [
    "\n",
    "def ler_csv_variaveis_API() -> Tuple[int, int, str]:\n",
    "    try:\n",
    "        df = spark.read.csv(caminho_arquivo, header=False)\n",
    "        if df.count() > 0:\n",
    "            row = df.collect()[0]\n",
    "            pagina = int(row[0])\n",
    "            porPagina = int(row[1])\n",
    "            estrategia = str(row[2])\n",
    "            return pagina, porPagina, estrategia\n",
    "        else:\n",
    "            print(f\"Arquivo vazio: {caminho_arquivo}\")\n",
    "            return None\n",
    "    except Exception as e:\n",
    "        print(f\"Erro ao ler o arquivo: {caminho_arquivo} - {str(e)}\")\n",
    "        return None\n",
    "\n",
    "\n",
    "def buscar_conteudo_TabNews (pagina: int, porPagina:int, estrategia:str) -> Dict[str, Any]:\n",
    "    \"\"\"\n",
    "    Busca os conteudos da API do TabNews. \n",
    "    Args:\n",
    "        pagina (int): O n├║mero da p├ígina a ser buscada. Padr├úo ├® 1.\n",
    "        por_pagina (int): N├║mero de itens por p├ígina. Padr├úo ├® 10.\n",
    "        estrategia (str): Estrat├®gia de conte├║do ('new', 'old', 'relevant'). Padr├úo ├® 'new'.\n",
    "    Returns:\n",
    "        Dict[str, Any]: Resposta JSON da API.\n",
    "    Raises:\n",
    "        requests.RequestException: Se a requisi├º├úo ├á API falhar.\n",
    "    \"\"\"\n",
    "    urlbase= f'https://www.tabnews.com.br/api/v1/contents?page={pagina}&per_page={porPagina}&strategy={estrategia}'\n",
    "    try:\n",
    "        resposta = requests.get(url=urlbase)\n",
    "        return resposta.text\n",
    "    except requests.RequestException as erro:\n",
    "        logging.error(f'Erro ao buscar dados da API do TabNews: {erro}')\n",
    "\n",
    "\n",
    "def salvar_json(json_data: str):\n",
    "    parsed_json = json.loads(json_data)\n",
    "    try:\n",
    "        for objeto_json in parsed_json:\n",
    "            created_at = datetime.fromisoformat(objeto_json['created_at'].replace('Z', '+00:00'))\n",
    "            caminho_pastas = f\"{caminho_raw}/Ano_{created_at.year}/M├¬s_{created_at.month:02d}/Dia_{created_at.day:02d}/Minuto_{created_at.hour:02d}/Segundo_{created_at.minute:02d}\"\n",
    "            nome_arquivo_json = f\"{objeto_json['id']}.json\"\n",
    "            caminho_arquivo_json = f\"{caminho_pastas}/{nome_arquivo_json}\"\n",
    "            \n",
    "            # Criar diret├│rios\n",
    "            dbutils.fs.mkdirs(caminho_pastas)\n",
    "            \n",
    "            # Salvar JSON\n",
    "            dbutils.fs.put(caminho_arquivo_json, json.dumps(objeto_json, ensure_ascii=False, indent=2), overwrite=True)\n",
    "    except KeyError as e:\n",
    "        print(f'Tivemos um erro para ler a chave no objeto JSON - {e}')\n",
    "    except Exception as e:\n",
    "        print(f'Erro inesperado - {e}')\n",
    "\n",
    "def adicionar_contador(pagina: int, porPagina: int, estrategia: str):\n",
    "    pagina += 1\n",
    "    novos_dados = [(pagina, porPagina, estrategia)]\n",
    "    \n",
    "    schema = StructType([\n",
    "        StructField(\"pagina\", IntegerType(), False),\n",
    "        StructField(\"porPagina\", IntegerType(), False),\n",
    "        StructField(\"estrategia\", StringType(), False)\n",
    "    ])\n",
    "    \n",
    "    df = spark.createDataFrame(novos_dados, schema)\n",
    "    df.write.mode(\"overwrite\").csv(caminho_arquivo, header=False)"
   ]
  },
  {
   "cell_type": "code",
   "execution_count": 0,
   "metadata": {
    "application/vnd.databricks.v1+cell": {
     "cellMetadata": {
      "byteLimit": 2048000,
      "rowLimit": 10000
     },
     "inputWidgets": {},
     "nuid": "da086825-1060-40aa-a425-7de411c9151b",
     "showTitle": false,
     "tableResultSettingsMap": {},
     "title": ""
    }
   },
   "outputs": [],
   "source": [
    "def main():\n",
    "    for i in range(10):\n",
    "        pagina, porPagina, estrategia = ler_csv_variaveis_API ()\n",
    "        resultado = buscar_conteudo_TabNews(pagina, porPagina, estrategia)\n",
    "        salvar_json(str(resultado))\n",
    "        adicionar_contador(pagina, porPagina, estrategia)\n",
    "# %%\n",
    "if __name__ == '__main__':\n",
    "    main()"
   ]
  }
 ],
 "metadata": {
  "application/vnd.databricks.v1+notebook": {
   "computePreferences": null,
   "dashboards": [],
   "environmentMetadata": {
    "base_environment": "",
    "environment_version": "2"
   },
   "language": "python",
   "notebookMetadata": {
    "pythonIndentUnit": 4
   },
   "notebookName": "API TabNews -> RAW DataLake",
   "widgets": {}
  },
  "language_info": {
   "name": "python"
  }
 },
 "nbformat": 4,
 "nbformat_minor": 0
}
