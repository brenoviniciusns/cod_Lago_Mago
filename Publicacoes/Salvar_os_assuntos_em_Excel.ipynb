{
 "cells": [
  {
   "cell_type": "code",
   "execution_count": 0,
   "metadata": {
    "application/vnd.databricks.v1+cell": {
     "cellMetadata": {
      "byteLimit": 2048000,
      "rowLimit": 10000
     },
     "inputWidgets": {},
     "nuid": "ba9c4c78-f19b-41ae-9b88-6d6e246db65d",
     "showTitle": false,
     "tableResultSettingsMap": {},
     "title": ""
    }
   },
   "outputs": [],
   "source": [
    "import os\n",
    "\n",
    "test_file_path = \"/Volumes/ingestao_dados/tabnews/dadostabnews/test_file.txt\"\n",
    "\n",
    "try:\n",
    "    with open(test_file_path, 'w') as f:\n",
    "        f.write(\"Test\")\n",
    "    print(f\"Arquivo de teste criado com sucesso em {test_file_path}\")\n",
    "    os.remove(test_file_path)\n",
    "    print(\"Arquivo de teste removido com sucesso\")\n",
    "except Exception as e:\n",
    "    print(f\"Erro ao criar arquivo de teste: {str(e)}\")"
   ]
  },
  {
   "cell_type": "code",
   "execution_count": 0,
   "metadata": {
    "application/vnd.databricks.v1+cell": {
     "cellMetadata": {
      "byteLimit": 2048000,
      "rowLimit": 10000
     },
     "inputWidgets": {},
     "nuid": "5616bef0-e80c-48c9-af9c-355fddd9a001",
     "showTitle": false,
     "tableResultSettingsMap": {},
     "title": ""
    }
   },
   "outputs": [],
   "source": [
    "import tempfile\n",
    "import shutil\n",
    "\n",
    "def save_excel_safely(df, final_path):\n",
    "    # Criar um arquivo tempor├írio\n",
    "    with tempfile.NamedTemporaryFile(suffix='.xlsx', delete=False) as tmp:\n",
    "        tmp_path = tmp.name\n",
    "    \n",
    "    # Salvar o DataFrame no arquivo tempor├írio\n",
    "    df.to_excel(tmp_path, index=False, engine='openpyxl')\n",
    "    \n",
    "    # Mover o arquivo tempor├írio para o destino final\n",
    "    shutil.move(tmp_path, final_path)\n",
    "    \n",
    "    print(f\"Arquivo Excel salvo com sucesso em {final_path}\")\n",
    "\n",
    "# Usar a fun├º├úo para salvar o DataFrame\n",
    "excel_path = \"/Volumes/ingestao_dados/tabnews/dadostabnews/resultado_final.xlsx\"\n",
    "save_excel_safely(pandas_df, excel_path)"
   ]
  }
 ],
 "metadata": {
  "application/vnd.databricks.v1+notebook": {
   "computePreferences": null,
   "dashboards": [],
   "environmentMetadata": {
    "base_environment": "",
    "environment_version": "2"
   },
   "language": "python",
   "notebookMetadata": {
    "mostRecentlyExecutedCommandWithImplicitDF": {
     "commandId": -1,
     "dataframes": [
      "_sqldf"
     ]
    },
    "pythonIndentUnit": 4
   },
   "notebookName": "Salvar os assuntos em Excel",
   "widgets": {}
  },
  "language_info": {
   "name": "python"
  }
 },
 "nbformat": 4,
 "nbformat_minor": 0
}
