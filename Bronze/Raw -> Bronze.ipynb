{
 "cells": [
  {
   "cell_type": "code",
   "execution_count": 0,
   "metadata": {
    "application/vnd.databricks.v1+cell": {
     "cellMetadata": {
      "byteLimit": 2048000,
      "rowLimit": 10000
     },
     "inputWidgets": {},
     "nuid": "4fbd7f7a-b539-45ce-b21d-19e0542679fc",
     "showTitle": false,
     "tableResultSettingsMap": {},
     "title": ""
    }
   },
   "outputs": [],
   "source": [
    "if not spark.catalog.tableExists('bronze.tabnews.`full-load`'):\n",
    "    print('Criando a tabela Full Load')\n",
    "    df_2022 = spark.read.format('parquet').load('/Volumes/ingestao_dados/tabnews/dadostabnews/FullLoad/2022/')\n",
    "    (df_2022.coalesce(1)\n",
    "            .write.format('delta')\n",
    "            .mode('overwrite')\n",
    "            .saveAsTable('bronze.tabnews.`full-load`'))\n",
    "else:\n",
    "    print('Tabela já existe')"
   ]
  }
 ],
 "metadata": {
  "application/vnd.databricks.v1+notebook": {
   "computePreferences": null,
   "dashboards": [],
   "environmentMetadata": {
    "base_environment": "",
    "environment_version": "2"
   },
   "language": "python",
   "notebookMetadata": {
    "mostRecentlyExecutedCommandWithImplicitDF": {
     "commandId": 6831410214493230,
     "dataframes": [
      "_sqldf"
     ]
    },
    "pythonIndentUnit": 4
   },
   "notebookName": "Raw -> Bronze",
   "widgets": {}
  },
  "language_info": {
   "name": "python"
  }
 },
 "nbformat": 4,
 "nbformat_minor": 0
}
