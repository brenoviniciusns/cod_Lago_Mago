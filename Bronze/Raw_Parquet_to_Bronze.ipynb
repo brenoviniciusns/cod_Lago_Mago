{
 "cells": [
  {
   "cell_type": "code",
   "execution_count": 0,
   "metadata": {
    "application/vnd.databricks.v1+cell": {
     "cellMetadata": {
      "byteLimit": 2048000,
      "rowLimit": 10000
     },
     "inputWidgets": {},
     "nuid": "e0aaba56-6b04-4375-bd30-73943d840e56",
     "showTitle": false,
     "tableResultSettingsMap": {},
     "title": ""
    }
   },
   "outputs": [],
   "source": [
    "from pyspark.sql.types import StructType, StructField, StringType, IntegerType, BooleanType"
   ]
  },
  {
   "cell_type": "code",
   "execution_count": 0,
   "metadata": {
    "application/vnd.databricks.v1+cell": {
     "cellMetadata": {
      "byteLimit": 2048000,
      "implicitDf": true,
      "rowLimit": 10000
     },
     "inputWidgets": {},
     "nuid": "a393443d-f6d2-4e4e-bc52-d17c21a2b963",
     "showTitle": false,
     "tableResultSettingsMap": {},
     "title": ""
    }
   },
   "outputs": [],
   "source": [
    "%sql\n",
    "SELECT id, created_at\n",
    "FROM bronze.tabnews.assunto\n",
    "ORDER BY created_at DESC\n",
    "LIMIT 4"
   ]
  },
  {
   "cell_type": "code",
   "execution_count": 0,
   "metadata": {
    "application/vnd.databricks.v1+cell": {
     "cellMetadata": {
      "byteLimit": 2048000,
      "implicitDf": true,
      "rowLimit": 10000
     },
     "inputWidgets": {},
     "nuid": "8a15caff-3e93-40f1-b687-c8e9ea032b02",
     "showTitle": false,
     "tableResultSettingsMap": {},
     "title": ""
    }
   },
   "outputs": [],
   "source": [
    "%sql\n",
    "SELECT count(*) FROM bronze.tabnews.assunto"
   ]
  },
  {
   "cell_type": "code",
   "execution_count": 0,
   "metadata": {
    "application/vnd.databricks.v1+cell": {
     "cellMetadata": {
      "byteLimit": 2048000,
      "rowLimit": 10000
     },
     "inputWidgets": {},
     "nuid": "96aec323-1541-4e83-9806-9c87e32e5b9b",
     "showTitle": false,
     "tableResultSettingsMap": {},
     "title": ""
    }
   },
   "outputs": [],
   "source": [
    "schema = StructType([\n",
    "    StructField(\"id\", StringType(), True),\n",
    "    StructField(\"owner_id\", StringType(), True),\n",
    "    StructField(\"parent_id\", StringType(), nullable=True),\n",
    "    StructField(\"slug\", StringType(), True),\n",
    "    StructField(\"title\", StringType(), True),\n",
    "    StructField(\"status\", StringType(), True),\n",
    "    StructField(\"type\", StringType(), True),\n",
    "    StructField(\"source_url\", StringType(), True),\n",
    "    StructField(\"created_at\", StringType(), True),\n",
    "    StructField(\"updated_at\", StringType(), True),\n",
    "    StructField(\"published_at\", StringType(), True),\n",
    "    StructField(\"deleted_at\", StringType(), nullable=True),\n",
    "    StructField(\"owner_username\", StringType(), True),\n",
    "    StructField(\"tabcoins\", IntegerType(), True),\n",
    "    StructField(\"tabcoins_credit\", IntegerType(), True),\n",
    "    StructField(\"tabcoins_debit\", IntegerType(), True),\n",
    "    StructField(\"children_deep_count\", IntegerType(), True)\n",
    "])\n",
    "\n",
    "df_stream = (spark  .readStream\n",
    "                    .format(\"cloudFiles\")\n",
    "                    .option(\"cloudFiles.format\", \"parquet\")\n",
    "                    .schema(schema)\n",
    "                    .load(\"/Volumes/ingestao_dados/tabnews/dadostabnews/Parquet/*/*.parquet\")\n",
    "                    .writeStream\n",
    "                    .option(\"checkpointLocation\", f\"/Volumes/ingestao_dados/tabnews/dadostabnews/parquet_checkpoint\")\n",
    "                    .trigger(availableNow=True)\n",
    "                    .toTable(\"bronze.tabnews.assunto\"))\n",
    "\n"
   ]
  },
  {
   "cell_type": "code",
   "execution_count": 0,
   "metadata": {
    "application/vnd.databricks.v1+cell": {
     "cellMetadata": {
      "byteLimit": 2048000,
      "implicitDf": true,
      "rowLimit": 10000
     },
     "inputWidgets": {},
     "nuid": "a473e81e-c323-4746-b0df-d6b5460f301d",
     "showTitle": false,
     "tableResultSettingsMap": {},
     "title": ""
    }
   },
   "outputs": [],
   "source": [
    "%sql\n",
    "SELECT *\n",
    "FROM bronze.tabnews.assunto\n",
    "ORDER BY id DESC\n",
    "LIMIT 10"
   ]
  }
 ],
 "metadata": {
  "application/vnd.databricks.v1+notebook": {
   "computePreferences": null,
   "dashboards": [],
   "environmentMetadata": {
    "base_environment": "",
    "environment_version": "2"
   },
   "language": "python",
   "notebookMetadata": {
    "mostRecentlyExecutedCommandWithImplicitDF": {
     "commandId": 6306018843921174,
     "dataframes": [
      "_sqldf"
     ]
    },
    "pythonIndentUnit": 4
   },
   "notebookName": "Raw (Parquet)-> Bronze",
   "widgets": {}
  },
  "language_info": {
   "name": "python"
  }
 },
 "nbformat": 4,
 "nbformat_minor": 0
}
